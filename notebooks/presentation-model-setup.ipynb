{
 "cells": [
  {
   "cell_type": "code",
   "execution_count": null,
   "metadata": {
    "slideshow": {
     "slide_type": "skip"
    }
   },
   "outputs": [],
   "source": [
    "# This notebook is best viewed in slide mode with certain nbextensions enabled: \"RISE\", hide input\", \"splitcells\".\n",
    "# It will look different \"odd\" without these extensions.\n",
    "# This following change of search path is not good practice but allows me to keep the presentation slides apart from\n",
    "# tutorial notebook (since the L96_model.py is not an installed package).\n",
    "import sys\n",
    "\n",
    "sys.path.append(\"../\")"
   ]
  },
  {
   "cell_type": "markdown",
   "metadata": {},
   "source": [
    "# L96 analogs for this project\n",
    "\n",
    "## Analog for the real world\n",
    "\n",
    "In 1996, Lorenz proposed a two-time scale dynamical system, referred to as the Lorenz-96 model, whose bahvaior mimics the non-linear bahvior of the extratropical atmosphere with simplified representation of multiscale interactions and nonlinear advection [Lorenz (1996)](https://www.ecmwf.int/en/elibrary/10829-predictability-problem-partly-solved). The lorenz-96 model consists of a set of equations coupling two scales of variables evolving over slow and fast timescales and arranged around a latitude circle as shown in Fig. 1.\n",
    "\n",
    "More precisely, the Lorenz-96 model includes $K$ slow (or low-frequency) variables, noted $X_k$, $k=1,\\ldots,K$ and each slow variable $X_k$ is coupled with $J$ fast (or high-frequency) variables $Y_{j,k}$ , $j=1,\\ldots,J$. Therefore, the Lorenz-96 model is described with the following $K+JK$ equations:\n",
    "\\begin{align}\n",
    "\\frac{d}{dt} X_k\n",
    "&= - X_{k-1} \\left( X_{k-2} - X_{k+1} \\right) - X_k + F - \\left( \\frac{hc}{b} \\right) \\sum_{j=0}^{J-1} Y_{j,k} \\ ,\n",
    "\\\\\n",
    "\\frac{d}{dt} Y_{j,k}\n",
    "&= - cbY_{j+1,k} \\left( Y_{j+2,k} - Y_{j-1,k} \\right) - c Y_{j,k} + \\frac{hc}{b} X_k \\ .\n",
    "\\end{align}\n",
    "\n",
    "In this model, the slow variables $X_k$, $k=1,\\ldots,K$ represent the resolved-scale variables in a climate model, while the fast variables $Y_{j,k}$, $j=1,\\ldots,J$, $k=1,\\ldots,K$ represent the unresolved variables (for instance variables representing cloud convection in a climate model).\n",
    "\n",
    "The model equations are coupled via the mean term $\\sum_{j=0}^{J-1} Y_{j,k}$, and the coupling depends on three key parameters: $b$, $c$ and $h$. The parametr $b$ determines the magnitude of the nonlinear interactions among the fast variables. The parameter $c$ controls how rapidly the fast variables fluctuate compared to the slow variables. Finally, the parameter $h$ governs the strengh of the coupling between the slow and fast variables. \n",
    "\n",
    "The chaotic dynamical system Lorenz-96 is very useful for testing different numerical methods in atmospheric modeling thanks to its transparency, computational cheapness and simplicity compared to Global Climate Models (GCM) including a full general circulation modeling. The interaction between variables of different scales makes the Lorenz-96 model of particular interest when evaluating new parameterization methodologies. As such, it was used in assessing different techniques that were later incorporated into GCMs ([Crommeling (2008)](https://journals.ametsoc.org/view/journals/atsc/65/8/2008jas2566.1.xml), [Dorrestijn (2013)](https://royalsocietypublishing.org/doi/10.1098/rsta.2012.0374)).\n",
    "\n",
    "\n",
    "The Lorenz-96 model has been extensively used as a test bed in various studies including data assimilation approaches ([Law (2016)](https://www.sciencedirect.com/science/article/pii/S0167278915002766?via%3Dihub), [Hatfield (2018)](https://journals.ametsoc.org/view/journals/mwre/146/1/mwr-d-17-0132.1.xml)), stochastic parameterization schemes ([Kwasniok (2012)](https://royalsocietypublishing.org/doi/10.1098/rsta.2011.0384), [Arnold (2013)](https://royalsocietypublishing.org/doi/full/10.1098/rsta.2011.0479), [Chorin (2015)](https://www.pnas.org/doi/10.1073/pnas.1512080112))  and Machine Learning-based parameterization methodologies ([Schneider (2017)](https://agupubs.onlinelibrary.wiley.com/doi/10.1002/2017GL076101), [Dueben (2018)](https://gmd.copernicus.org/articles/11/3999/2018/), [Watson (2019)](https://agupubs.onlinelibrary.wiley.com/doi/full/10.1029/2018MS001597), [GagneII (2020)](https://agupubs.onlinelibrary.wiley.com/doi/full/10.1029/2019MS001896)).\n",
    "\n",
    "\n",
    "<img src=\"https://www.researchgate.net/publication/319201436/figure/fig1/AS:869115023589376@1584224577926/Visualisation-of-a-two-scale-Lorenz-96-system-with-J-8-and-K-6-Global-scale-values.png\" width=400> *Fig. 1: Visualisation of a two-scale Lorenz '96 system with J = 8 and K = 6. Global-scale variables ($X_k$) are updated based on neighbouring variables and on the local-scale variables ($Y_{j,k}$) associated with the corresponding global-scale variable. Local-scale variabless are updated based on neighbouring variables and the associated global-scale variable. The neighbourhood topology of both local and global-scale variables is circular. Image from [Exploiting the chaotic behaviour of atmospheric models with reconfigurable architectures - Scientific Figure on ResearchGate.](https://www.researchgate.net/figure/Visualisation-of-a-two-scale-Lorenz-96-system-with-J-8-and-K-6-Global-scale-values_fig1_319201436)*\n"
   ]
  },
  {
   "cell_type": "markdown",
   "metadata": {
    "cell_style": "split",
    "hide_input": true,
    "slideshow": {
     "slide_type": "subslide"
    }
   },
   "source": [
    "# The real world\n",
    "\n",
    "The values for the parameters $F$, $J$ and $K$ are fixed based on [Wilks (2005)](https://rmets.onlinelibrary.wiley.com/doi/abs/10.1256/qj.04.03) such that:\n",
    "- $F=18$ or $20$ ,\n",
    "- $K=8$ ,\n",
    "- $J=32$ .\n",
    "\n",
    "The value chosen for the parameter $F$ is set large enough to ensure chaotic bahvior. We also use these reference values for the $h$, $b$ and $c$ parameters:\n",
    "- $h=1$ , \n",
    "- $b=10$ , \n",
    "- $c=10$ .\n",
    "\n",
    "With this particular choice of parameter values, one model time unit (MTU) is approximately equivalent to five atmospheric days. This estimate is obtained by comparing error-doubling times in the Lorenz-96 model and the atmosphere [Lorenz (1996)](https://www.ecmwf.int/en/elibrary/10829-predictability-problem-partly-solved).\n",
    "\n",
    "In the following code, we solve the Lorenz-96 system using an accurate time-stepping scheme (RK4 with sufficiently small $\\Delta t$). We also plot the obtained solution for the $X_k$ and $Y_{j,k}$ variables. \n"
   ]
  },
  {
   "cell_type": "code",
   "execution_count": null,
   "metadata": {
    "cell_style": "split",
    "slideshow": {
     "slide_type": "-"
    }
   },
   "outputs": [],
   "source": [
    "import numpy as np\n",
    "import matplotlib.pyplot as plt\n",
    "from L96_model import L96\n",
    "\n",
    "np.random.seed(23)\n",
    "W = L96(8, 32)\n",
    "\n",
    "%time X,Y,t = W.run(0.01, 20.)\n",
    "\n",
    "plt.figure(dpi=150)\n",
    "plt.contourf(W.k, t, X)\n",
    "plt.xlabel(\"k\")\n",
    "plt.ylabel(\"t\")\n",
    "plt.title(\"$X_k(t)$\");"
   ]
  },
  {
   "cell_type": "code",
   "execution_count": null,
   "metadata": {
    "cell_style": "split",
    "slideshow": {
     "slide_type": "subslide"
    }
   },
   "outputs": [],
   "source": [
    "plt.figure(dpi=150)\n",
    "plt.contourf(W.j / W.J, t, Y, levels=np.linspace(-1, 1, 10))\n",
    "plt.xlabel(\"k+j/J\")\n",
    "plt.ylabel(\"t\")\n",
    "plt.title(\"$Y_{j,k}(t)$\")\n",
    "yl = plt.ylim(7, 9);"
   ]
  },
  {
   "cell_type": "code",
   "execution_count": null,
   "metadata": {
    "cell_style": "split",
    "slideshow": {
     "slide_type": "-"
    }
   },
   "outputs": [],
   "source": [
    "plt.figure(dpi=150)\n",
    "plt.contourf(W.k, t, X)\n",
    "plt.xlabel(\"k\")\n",
    "plt.ylabel(\"t\")\n",
    "plt.title(\"$X_k(t)$\")\n",
    "plt.ylim(yl);"
   ]
  },
  {
   "cell_type": "markdown",
   "metadata": {},
   "source": [
    "# Analog for  GCM\n",
    "\n",
    "In this study, the two-scale Lorenz-96 system introduced above is treated as the \"truth\" or \"real-world\" model which we aim to forecast or simulate. The physical equations of motion of the system describing the atmosphere dynamics are known. However, it is not feasible to explicitley solve them within Global Climate Models (GCM) due to the unresolved smallest scales and limited computational resources. Given this constraint for GCM, the Lorenz-96 system is commonly treated as the full (or \"truth\") model, while a forecast (or an approximate) model is constructed by replacing the coupling terms between the slow and fast variables ($\\left( \\frac{hc}{b} \\right) \\sum_{j=0}^{J-1} Y_{j,k}$) with a sub-grid parameterization tendency that we note $U_k$, $k=1,\\ldots,k$. The one time-scale Lorenz-96 equation corresponding to such an approxiamte model can be expressed as follows:\n",
    "\n",
    "\\begin{align}\n",
    "\\frac{d}{dt} X_k\n",
    "&= - X_{k-1} \\left( X_{k-2} - X_{k+1} \\right) - X_k + F - \\underbrace{ \n",
    "\\left( \\frac{hc}{b} \\right) \\sum_{j=0}^{J-1} Y_{j,k}\n",
    "}_{=U_k} \\ .\n",
    "\\end{align}\n"
   ]
  },
  {
   "cell_type": "markdown",
   "metadata": {
    "cell_style": "split",
    "slideshow": {
     "slide_type": "slide"
    }
   },
   "source": [
    "# The parametization $P(X_k)$\n",
    "\n",
    "We consider the particular choice of modeling the unknown parameterization of the \"unresolved processes\" with a plynomial approximation such that the one time-scale equation of the Lorenz-96 model can be written as:\n",
    "\\begin{align}\n",
    "\\frac{d}{dt} X_k\n",
    "&= - X_{k-1} \\left( X_{k-2} - X_{k+1} \\right) - X_k + F - P\\left( X_k \\right) \\ .\n",
    "\\end{align}\n",
    "Note the sign of the slope of $P(X_k)$ determines sign of the feedback.\n",
    "\n",
    "Examples of such a parameterization include the form proposed by\n",
    "[Wilks (2005)](https://rmets.onlinelibrary.wiley.com/doi/abs/10.1256/qj.04.03): $P(X_k)=b_0 + b_1 X_k + b_2 X_k^2 + b_3 X_k^3 + b_4 X_k^4 + e_k$ where $e_k$ is a stochastic component. One could also use a lower-order polynomial as suggested by\n",
    "[Arnold (2013)](https://royalsocietypublishing.org/doi/10.1098/rsta.2011.0479): $P(X_k)=b_0 + b_1 X_k + b_2 X_k^2 + b_3 X_k^3 + e_k$.\n",
    "\n",
    "With the \"real world\" system in hand, we can \"observe\" the sub-grid forcing on the large scale and we model the actual coupling, $U_k$, with the polynomial function $P(X_k)$.\n",
    "\n",
    "In the following code, we solve the one time-scale Lorenz-96 system using an inaccurate time-stepping (Euler-forward with only-just stable $\\Delta t$) and an unknown parameterization of the \"unresolved processes\", $P(X_k)$.\n",
    "\n"
   ]
  },
  {
   "cell_type": "code",
   "execution_count": null,
   "metadata": {
    "cell_style": "split",
    "slideshow": {
     "slide_type": "-"
    }
   },
   "outputs": [],
   "source": [
    "%time X, Y, t = W.run(0.05, 200.)"
   ]
  },
  {
   "cell_type": "code",
   "execution_count": null,
   "metadata": {
    "cell_style": "split",
    "slideshow": {
     "slide_type": "-"
    }
   },
   "outputs": [],
   "source": [
    "Xsamp = X\n",
    "Usamp = (W.h * W.c / W.b) * Y.reshape((Y.shape[0], W.K, W.J)).sum(axis=-1)\n",
    "p = np.polyfit(Xsamp.flatten(), Usamp.flatten(), 1)\n",
    "print(\"Poly coeffs:\", p)"
   ]
  },
  {
   "cell_type": "markdown",
   "metadata": {},
   "source": [
    "In the next plots, we compare the results obtained with a linear polynomial approximation, [Wilks (2005)'](https://rmets.onlinelibrary.wiley.com/doi/abs/10.1256/qj.04.03) polynomial parameterization and the \"truth\" values of the coupling terms."
   ]
  },
  {
   "cell_type": "code",
   "execution_count": null,
   "metadata": {
    "cell_style": "split",
    "hide_input": true,
    "slideshow": {
     "slide_type": "-"
    }
   },
   "outputs": [],
   "source": [
    "plt.figure(dpi=150)\n",
    "plt.plot(Xsamp[::50, :], Usamp[::50, :], \".\")\n",
    "plt.xlabel(\"$X_k$\")\n",
    "plt.ylabel(r\"$\\frac{hc}{b}\\sum_j Y_{j,k}$\")\n",
    "x = np.linspace(-12, 18)\n",
    "p18 = [0.000707, -0.0130, -0.0190, 1.59, 0.275]  # Polynomial from Wilks, 2005\n",
    "plt.plot(x, np.polyval(p18, x), label=\"$P_4(X_k)$ - Wilks, 2005\")\n",
    "plt.plot(x, np.polyval(p, x), \"--\", label=\"$P_1(X_k)$\")\n",
    "plt.legend();"
   ]
  },
  {
   "cell_type": "code",
   "execution_count": null,
   "metadata": {
    "cell_style": "split",
    "hide_input": false,
    "slideshow": {
     "slide_type": "skip"
    }
   },
   "outputs": [],
   "source": [
    "plt.figure(dpi=150)\n",
    "plt.hist2d(Xsamp.flatten(), Usamp.flatten(), bins=50)\n",
    "plt.xlabel(\"$X_k$\")\n",
    "plt.ylabel(r\"$\\frac{hc}{b}\\sum_j Y_{j,k}$\")\n",
    "x = np.linspace(-12, 18, 100)\n",
    "p18 = [0.000707, -0.0130, -0.0190, 1.59, 0.275]  # Polynomial from Wilks, 2005\n",
    "plt.plot(x, np.polyval(p18, x), label=\"$P_4(X_k)$ - Wilks, 2005\")\n",
    "plt.plot(x, np.polyval(p, x), \"--\", label=\"$P_1(X_k)$\")\n",
    "plt.plot(\n",
    "    x,\n",
    "    np.minimum(1.5, x - 0.5) + 2.2 * np.sqrt(np.maximum(0, x - 1.5)),\n",
    "    label=\"Ineptias theory\",\n",
    ")\n",
    "plt.legend();"
   ]
  },
  {
   "cell_type": "markdown",
   "metadata": {
    "cell_style": "split",
    "slideshow": {
     "slide_type": "slide"
    }
   },
   "source": [
    "# The \"GCM\" model:\n",
    "\n",
    "Next, we compare the predictions obtained with the different models: \n",
    "- \"Real world\": corresponding to the \"truth\" model goverened by the full two time-scale Lorenz-96 system.\n",
    "- GCM w/o parameterization: corresponding to the one time-scale Lorenz-96 system without any the coupling term.\n",
    "- GCM with our parameterization: corresponding to the one time-scale Lorenz-96 system with the linear polynomial approximation of the coupling terms as obtained above.\n",
    "- GCM with [Wilks (2005)'](https://rmets.onlinelibrary.wiley.com/doi/abs/10.1256/qj.04.03) parameterization: corresponding to the one time-scale Lorenz-96 system with a third-order polynomial approximation of the coupling terms.\n",
    "\n",
    "\n"
   ]
  },
  {
   "cell_type": "code",
   "execution_count": null,
   "metadata": {
    "cell_style": "split",
    "slideshow": {
     "slide_type": "-"
    }
   },
   "outputs": [],
   "source": [
    "from L96_model import L96_eq1_xdot\n",
    "\n",
    "\n",
    "def GCM(X0, F, dt, nt, param=[0]):\n",
    "    time, hist, X = dt * np.arange(nt), np.zeros((nt, len(X0))) * np.nan, X0.copy()\n",
    "\n",
    "    for n in range(nt):\n",
    "        X = X + dt * (L96_eq1_xdot(X, F) - np.polyval(param, X))\n",
    "        if np.abs(X).max() > 1e3:\n",
    "            break\n",
    "        hist[n], time[n] = X, dt * (n + 1)\n",
    "    return hist, time\n",
    "\n",
    "\n",
    "np.random.seed(13)\n",
    "T = 5\n",
    "Xtrue, Ytrue, Ttrue = W.randomize_IC().run(0.05, T)\n",
    "Xinit, dt, Fmod = Xtrue[0] + 0.0 * np.random.randn(W.K), 0.002, W.F + 0.0\n",
    "Xgcm1, Tgcm1 = GCM(Xinit, Fmod, dt, int(T / dt))\n",
    "Xgcm2, Tgcm2 = GCM(Xinit, Fmod, dt, int(T / dt), param=p)\n",
    "Xgcm3, Tgcm3 = GCM(Xinit, Fmod, dt, int(T / dt), param=p18)"
   ]
  },
  {
   "cell_type": "code",
   "execution_count": null,
   "metadata": {
    "hide_input": true,
    "slideshow": {
     "slide_type": "-"
    }
   },
   "outputs": [],
   "source": [
    "plt.figure(dpi=150, figsize=(17, 4))\n",
    "lims = {\"vmin\": -12, \"vmax\": 12, \"levels\": np.linspace(-12, 12, 12)}\n",
    "plt.subplot(141)\n",
    "plt.contourf(W.k, Ttrue + t[-1], Xtrue, **lims)\n",
    "plt.xlabel(\"$k$\")\n",
    "plt.ylabel(\"$t$\")\n",
    "plt.title(\"Real world\")\n",
    "plt.subplot(142)\n",
    "plt.contourf(W.k, Tgcm1 + t[-1], Xgcm1, **lims)\n",
    "plt.xlabel(\"$k$\")\n",
    "plt.ylabel(\"$t$\")\n",
    "plt.title(\"GCM w/o parameterization\")\n",
    "plt.subplot(143)\n",
    "plt.contourf(W.k, Tgcm3 + t[-1], Xgcm2, **lims)\n",
    "plt.xlabel(\"$k$\")\n",
    "plt.ylabel(\"$t$\")\n",
    "plt.title(\"GCM with our parameterization\")\n",
    "plt.subplot(144)\n",
    "plt.contourf(W.k, Tgcm2 + t[-1], Xgcm3, **lims)\n",
    "plt.xlabel(\"$k$\")\n",
    "plt.ylabel(\"$t$\")\n",
    "plt.title(\"GCM with Wilks' parameterization\");"
   ]
  },
  {
   "cell_type": "markdown",
   "metadata": {},
   "source": [
    "The next plot shows the temporal evolution of the variable $X_3$ obtained with the four models listed above."
   ]
  },
  {
   "cell_type": "code",
   "execution_count": null,
   "metadata": {
    "hide_input": true,
    "slideshow": {
     "slide_type": "subslide"
    }
   },
   "outputs": [],
   "source": [
    "k = 3\n",
    "plt.figure(dpi=150, figsize=(16, 3.5))\n",
    "plt.plot(Ttrue + t[-1], Xtrue[:, k], \"--\", label=\"Real world\")\n",
    "plt.plot(Tgcm1 + t[-1], Xgcm1[:, k], \":\", label=\"GCM w/o param.\")\n",
    "plt.plot(Tgcm1 + t[-1], Xgcm2[:, k], label=\"GCM w. our param.\")\n",
    "plt.plot(Tgcm1 + t[-1], Xgcm3[:, k], label=\"GCM w. Wilks param.\")\n",
    "plt.xlabel(\"$t$\")\n",
    "plt.ylabel(\"$X_3(t)$\")\n",
    "plt.legend()\n",
    "plt.ylim(-10, 15);"
   ]
  },
  {
   "cell_type": "markdown",
   "metadata": {
    "cell_style": "split",
    "slideshow": {
     "slide_type": "subslide"
    }
   },
   "source": [
    "# Model error\n",
    "\n",
    "We consdier the following 4 sources of error:\n",
    "\n",
    "- Missing physics, which is modeled with a GCM without parameterization: corresponding to the one time-scale Lorenz-96 system without any the coupling term.\n",
    "- Poorly parameterized unresolved physics which is studied by considered a first-order and third-order polynomial approximations of the coupling terms:\n",
    "  - $P_4 \\rightarrow P_1$\n",
    "- Unknown forcing which is modeled by adding an error to the forcing term:\n",
    "  - $F \\rightarrow F + error$\n",
    "- Numerical errors which is studied by increasing the time-step:\n",
    "  - $\\Delta t \\rightarrow 10 \\Delta t$\n",
    "- Initialization error which is modeled by adding an error to the initial condition:\n",
    "  - $X(t=0) \\rightarrow X(t=0) + error$\n",
    "  \n",
    "The next code estimates these sources of error and the next figure shows their relative contributions. For reference, we also plot the error of the GCM using [Wilks (2005)](https://rmets.onlinelibrary.wiley.com/doi/abs/10.1256/qj.04.03)' polynomial coupling term and without any of the sources of error listed above. All errors are evaluated by comparing the GCMs to the \"truth\" model goverened by the full two time-scale Lorenz-96 system."
   ]
  },
  {
   "cell_type": "code",
   "execution_count": null,
   "metadata": {
    "cell_style": "split",
    "hide_input": false,
    "slideshow": {
     "slide_type": "-"
    }
   },
   "outputs": [],
   "source": [
    "def err(X, Xtrue):\n",
    "    return np.sqrt(((X - Xtrue[1:, :]) ** 2).mean(axis=1))\n",
    "\n",
    "\n",
    "np.random.seed(13)\n",
    "T, dt = 2, 0.001\n",
    "Xtr, _, _ = W.randomize_IC().set_param(0.0001).run(dt, T)\n",
    "Xgcm, Tc = GCM(W.X, W.F, dt, int(T / dt), param=p18)\n",
    "Xfrc, Tc = GCM(W.X, W.F + 1.0, dt, int(T / dt), param=p18)\n",
    "Xic, Tc = GCM(W.X + 0.5, W.F, dt, int(T / dt), param=p18)\n",
    "Xdt, Tdt = GCM(W.X, W.F, 10 * dt, int(T / dt / 10), param=p18)\n",
    "Xphys, _ = GCM(W.X, W.F, dt, int(T / dt))\n",
    "Xprm, _ = GCM(W.X, W.F, dt, int(T / dt), param=p)\n",
    "\n",
    "plt.figure(dpi=150)\n",
    "plt.plot(Tc, err(Xgcm, Xtr), label=\"GCM\")\n",
    "plt.plot(Tc, err(Xphys, Xtr), label=\"Missing physics\")\n",
    "plt.plot(Tc, err(Xprm, Xtr), label=\"Parameterization\")\n",
    "plt.plot(Tc, err(Xfrc, Xtr), label=\"Forcing\")\n",
    "plt.plot(Tdt, err(Xdt, Xtr[::10]), label=\"Numerical\")\n",
    "plt.plot(Tc, err(Xic, Xtr), label=\"Initialization\")\n",
    "plt.xlabel(\"$t$\")\n",
    "plt.ylabel(\"Error\")\n",
    "plt.legend();"
   ]
  },
  {
   "cell_type": "markdown",
   "metadata": {},
   "source": [
    "For this particular set of parameter values, the removal of the coupling term results in the highest error. The second and third sources of error correspond to the numerical error (introduced by increasing the time-step) and to the error resulting form poorly parameterized unresolved physics (modeled by consideing a first-order polynomial approximation of the coupling terms) respectively.\n",
    "\n",
    "The errors introduced by an unknown forcing and a different initialization are the smallest among the sources of errors considered."
   ]
  },
  {
   "cell_type": "markdown",
   "metadata": {},
   "source": [
    "Next, we run the two time-scale Lorenz-96, the GCM with our parameterization corresponding to the one time-scale Lorenz-96 system with the linear polynomial approximation of the coupling terms and the GCM with [Wilks (2005)'](https://rmets.onlinelibrary.wiley.com/doi/abs/10.1256/qj.04.03) parameterization corresponding to the one time-scale Lorenz-96 system with a third-order polynomial approximation of the coupling terms."
   ]
  },
  {
   "cell_type": "code",
   "execution_count": null,
   "metadata": {
    "cell_style": "split",
    "slideshow": {
     "slide_type": "subslide"
    }
   },
   "outputs": [],
   "source": [
    "# Build a 100-\"day\" climatology\n",
    "\n",
    "T, dt = 100.0, 0.001\n",
    "%time Xclim,Yclim,Tclim = W.run(0.1, T)\n",
    "%time X1,t1 = GCM(Xinit, Fmod, dt, int(T/dt), param=p)\n",
    "%time X2,t2 = GCM(Xinit, Fmod, dt, int(T/dt), param=p18)"
   ]
  },
  {
   "cell_type": "markdown",
   "metadata": {},
   "source": [
    "We compare the mean values of the slow variables $X_k$ , $k=1,\\ldots,K$."
   ]
  },
  {
   "cell_type": "code",
   "execution_count": null,
   "metadata": {
    "cell_style": "split",
    "hide_input": false,
    "slideshow": {
     "slide_type": "-"
    }
   },
   "outputs": [],
   "source": [
    "plt.figure(dpi=150)\n",
    "plt.plot(t1, X1.mean(axis=1), label=\"Model w. lin. param., %.2f\" % (X1.mean()))\n",
    "plt.plot(Tclim, Xclim.mean(axis=1), label=\"Real world, %.2f\" % (Xtrue.mean()))\n",
    "plt.plot(t2, X2.mean(axis=1), label=\"Model w. Wilks, %.2f\" % (X2.mean()))\n",
    "plt.xlabel(\"$t$\")\n",
    "plt.ylabel(r\"$\\frac{1}{K}\\sum_{k=1}^K X_k(t)$\")\n",
    "plt.legend()\n",
    "print(\"\\n\\n       Truth      P1   Wilks\")\n",
    "print(\"mean:  %.3f   %.3f   %.3f\" % (Xtrue.mean(), X1.mean(), X2.mean()))\n",
    "print(\"std:   %.3f   %.3f   %.3f\" % (Xtrue.std(), X1.std(), X2.std()))"
   ]
  },
  {
   "cell_type": "markdown",
   "metadata": {},
   "source": [
    "As expected, the [Wilks (2005)](https://rmets.onlinelibrary.wiley.com/doi/abs/10.1256/qj.04.03)' parameterization gives a mean value of the slow variables that is closer to the one obtained with the \"truth\" model compared to the model with linear parameterization since [Wilks (2005)'](https://rmets.onlinelibrary.wiley.com/doi/abs/10.1256/qj.04.03) coupling term is modeled with a third-order polynomial.\n",
    "\n",
    "Next, we consider the model with the full parameterization proposed by [Wilks (2005)](https://rmets.onlinelibrary.wiley.com/doi/abs/10.1256/qj.04.03) by adding a stochastic component such that the parameterization has the following form: $P(X_k)=b_0 + b_1 X_k + b_2 X_k^2 + b_3 X_k^3 + b_4 X_k^4 + e_k$ where $e_k$ is a stochastic component."
   ]
  },
  {
   "cell_type": "code",
   "execution_count": null,
   "metadata": {
    "cell_style": "split",
    "slideshow": {
     "slide_type": "skip"
    }
   },
   "outputs": [],
   "source": [
    "def GCMs(X0, F, dt, nt, param=[0], stoch=1.0, phi=0.984):\n",
    "    time, hist, X = dt * np.arange(nt), np.zeros((nt, len(X0))) * np.nan, X0.copy()\n",
    "    ek = np.zeros(X.size)\n",
    "\n",
    "    for n in range(nt):\n",
    "        # Red noise\n",
    "        ek = phi * ek + stoch * np.sqrt((1 - phi) * (1 + phi)) * np.random.randn(X.size)\n",
    "        X = X + dt * (L96_eq1_xdot(X, F) - np.polyval(param, X) + stoch * ek)\n",
    "        if np.abs(X).max() > 1e3:\n",
    "            break\n",
    "        hist[n], time[n] = X, dt * (n + 1)\n",
    "    return hist, time\n",
    "\n",
    "\n",
    "np.random.seed(31)\n",
    "%time X3,t3 = GCMs(Xinit, Fmod, dt, int(T/dt), param=p18)\n",
    "\n",
    "print(\"\\n\\n       Truth      P1      P4  P4+stoch\")\n",
    "print(\n",
    "    \"mean:  %.3f   %.3f   %.3f   %.3f\" % (Xtrue.mean(), X1.mean(), X2.mean(), X3.mean())\n",
    ")\n",
    "print(\"std:   %.3f   %.3f   %.3f   %.3f\" % (Xtrue.std(), X1.std(), X2.std(), X3.std()))"
   ]
  },
  {
   "cell_type": "markdown",
   "metadata": {},
   "source": [
    "By comparing the mean and standard deviation values of the slow variables $X_k$ , $k=1,\\ldots,K$, we do not see a significant improvement when adding the stochastic component $e_k$ to the third-order polynomial parameterization."
   ]
  },
  {
   "cell_type": "code",
   "execution_count": null,
   "metadata": {
    "cell_style": "split",
    "hide_input": false,
    "slideshow": {
     "slide_type": "skip"
    }
   },
   "outputs": [],
   "source": [
    "plt.figure(dpi=150)\n",
    "plt.plot(Ttrue, Xtrue.mean(axis=1), label=\"Real world, %.2f\" % (Xtrue.mean()))\n",
    "plt.plot(t1, X1.mean(axis=1), label=\"Model w. lin. param., %.2f\" % (X1.mean()))\n",
    "plt.plot(t2, X2.mean(axis=1), label=\"Model w. Wilks, %.2f\" % (X2.mean()))\n",
    "plt.plot(t3, X3.mean(axis=1), label=\"Model w. Wilks + stoch, %.2f\" % (X3.mean()))\n",
    "plt.xlabel(\"$t$\")\n",
    "plt.ylabel(r\"$\\frac{1}{K}\\sum_{k=1}^K X_k(t)$\")\n",
    "plt.legend();"
   ]
  },
  {
   "cell_type": "markdown",
   "metadata": {
    "slideshow": {
     "slide_type": "slide"
    }
   },
   "source": [
    "# Summary\n",
    "\n",
    "In this chapter:\n",
    "- We used the two time-scale Lorenz-96 model to generate a real world, or \"truth\", dataset\n",
    "- We built a \"GCM\" with a rudimentary parameterization of coupling to unresolved processes ($\\frac{hc}{b}\\sum_{j=0}^{J-1} Y_{j,k}$)\n",
    "  - We deliberately used low-order integration and longer time-step for non-trivial numerical model errors.\n",
    "  - We compared the different sources of error due to: (1) missing physics, (2) poorly parameterized unresolved physics, (3) unknown forcing, (4) time-discretization numerical approximation and (5) initialization error.\n",
    "  - We also compared the results obtained with (1) a GCM corresponding to the one time-scale Lorenz-96 system with a linear polynomial parameterization of the coupling terms, (2) a GCM with [Wilks (2005)'](https://rmets.onlinelibrary.wiley.com/doi/abs/10.1256/qj.04.03) parameterization corresponding to the one time-scale Lorenz-96 system with a third-order polynomial approximation of the coupling terms and (3) a GCM with the full [Wilks (2005)'](https://rmets.onlinelibrary.wiley.com/doi/abs/10.1256/qj.04.03) parameterization corresponding to the one time-scale Lorenz-96 system with a third-order polynomial approximation of the coupling terms and a stochastic component.\n",
    "\n"
   ]
  },
  {
   "cell_type": "code",
   "execution_count": null,
   "metadata": {},
   "outputs": [],
   "source": []
  }
 ],
 "metadata": {
  "celltoolbar": "Slideshow",
  "kernelspec": {
   "display_name": "Python 3",
   "language": "python",
   "name": "python3"
  },
  "language_info": {
   "codemirror_mode": {
    "name": "ipython",
    "version": 3
   },
   "file_extension": ".py",
   "mimetype": "text/x-python",
   "name": "python",
   "nbconvert_exporter": "python",
   "pygments_lexer": "ipython3",
   "version": "3.7.6"
  },
  "rise": {
   "enable_chalkboard": true,
   "theme": "sky"
  }
 },
 "nbformat": 4,
 "nbformat_minor": 4
}
